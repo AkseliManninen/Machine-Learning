{
 "cells": [
  {
   "cell_type": "markdown",
   "id": "b0d18293-5e74-436f-bb09-294915197dfd",
   "metadata": {
    "tags": []
   },
   "source": [
    "# Linear regression - Implementation from scratch and implementation with sklearn"
   ]
  },
  {
   "cell_type": "code",
   "execution_count": 5,
   "id": "a0bd4429-3423-4ed8-b040-cdfafa110e1f",
   "metadata": {},
   "outputs": [],
   "source": [
    "## Importing libraries\n",
    "import numpy as np\n",
    "from sklearn.linear_model import LinearRegression\n",
    "from sklearn.metrics import mean_squared_error"
   ]
  },
  {
   "cell_type": "code",
   "execution_count": 7,
   "id": "f08bcda3-d5e6-45d9-9330-6c9e65a666ee",
   "metadata": {},
   "outputs": [],
   "source": [
    "# Data\n",
    "np.random.seed(123)\n",
    "from sklearn.datasets import load_diabetes\n",
    "X, y = load_diabetes(return_X_y = True)\n",
    "\n",
    "ord = np.random.permutation(len(y))\n",
    "train = np.sort(ord[200:])\n",
    "test = np.sort(ord[:200])\n",
    "\n",
    "X_train = X[train, :]\n",
    "y_train = y[train]\n",
    "\n",
    "X_test = X[test, :]\n",
    "y_test = y[test]"
   ]
  },
  {
   "cell_type": "markdown",
   "id": "68e702d5-210d-479c-b8ea-1a3ffa54616a",
   "metadata": {},
   "source": [
    "## Implementation 1 - From scratch"
   ]
  },
  {
   "cell_type": "code",
   "execution_count": 23,
   "id": "2b6afe6f-2254-4082-b5c9-595b8bd369c4",
   "metadata": {},
   "outputs": [
    {
     "name": "stdout",
     "output_type": "stream",
     "text": [
      "MSE is:  27764.8\n"
     ]
    }
   ],
   "source": [
    "coefs = np.dot(np.linalg.inv(np.dot(X_train.T, X_train)), np.dot(X_train.T, y_train))\n",
    "\n",
    "y_pred = np.dot(X_test, coefs)\n",
    "\n",
    "print(\"MSE is: \", round(mean_squared_error(y_pred, y_test), 1))"
   ]
  },
  {
   "cell_type": "markdown",
   "id": "49136de5-9ec7-468d-9a5a-cebcac118705",
   "metadata": {},
   "source": [
    "## Implementation 2 - Sklearn"
   ]
  },
  {
   "cell_type": "code",
   "execution_count": 26,
   "id": "e014308f-02cb-46e5-9077-f02df673ae00",
   "metadata": {},
   "outputs": [
    {
     "name": "stdout",
     "output_type": "stream",
     "text": [
      "MSE is:  27764.8\n"
     ]
    }
   ],
   "source": [
    "regressor = LinearRegression(fit_intercept = False).fit(X_train, y_train)\n",
    "\n",
    "y_pred = regressor.predict(X_test)\n",
    "\n",
    "print(\"MSE is: \", round(mean_squared_error(y_pred, y_test), 1))"
   ]
  },
  {
   "cell_type": "markdown",
   "id": "0cf830f0-9be8-459f-ad98-ab91b00c2a91",
   "metadata": {},
   "source": [
    "## Results\n",
    "\n",
    "As can be observed, the results are the same for implementations 1 and 2.\n",
    "\n",
    "Note: In this implementation, we do not have an intercept, which means that the linear line goes through origon."
   ]
  }
 ],
 "metadata": {
  "kernelspec": {
   "display_name": "Python 3",
   "language": "python",
   "name": "python3"
  },
  "language_info": {
   "codemirror_mode": {
    "name": "ipython",
    "version": 3
   },
   "file_extension": ".py",
   "mimetype": "text/x-python",
   "name": "python",
   "nbconvert_exporter": "python",
   "pygments_lexer": "ipython3",
   "version": "3.9.5"
  }
 },
 "nbformat": 4,
 "nbformat_minor": 5
}
